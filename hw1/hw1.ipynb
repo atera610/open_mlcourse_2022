{
 "cells": [
  {
   "cell_type": "markdown",
   "source": [
    "Написать код, который вычисляет сумму всех чисел, удовлетворяющих следующие условия:\n",
    "<li>положительные целые числа от 1 до 1_000_000_002 (один миллиард два) включительно<\\li>\n",
    "<li>которые нацело (без остатка) делятся на 3 (пример: 3, 6, 9, ...)<\\li>\n",
    "<li>и которые не заканчиваются на 4 и 7 (пример заканчивающихся на 4 и 7: 24, 27, 54, 57 ...)<\\li>\n",
    "Результат суммы ввести в поле ниже.\n",
    "В поле нужно ввести только число, являющееся ответом, без пробелов и других символов."
   ],
   "metadata": {
    "collapsed": false
   }
  },
  {
   "cell_type": "code",
   "execution_count": 21,
   "outputs": [
    {
     "name": "stdout",
     "output_type": "stream",
     "text": [
      "66666667733333344\n"
     ]
    }
   ],
   "source": [
    "def arithmetic_progression_sum(first, last, step):\n",
    "    n = (last - first) / step + 1\n",
    "    return (first + last) * n / 2\n",
    "\n",
    "sum_three = arithmetic_progression_sum(3, 1_000_000_002, 3)\n",
    "sum_fours = arithmetic_progression_sum(4, 999_999_994, 10)\n",
    "sum_sevens = arithmetic_progression_sum(7, 999_999_997, 10)\n",
    "print(int(sum_three - sum_fours - sum_sevens))"
   ],
   "metadata": {
    "collapsed": false,
    "pycharm": {
     "name": "#%%\n"
    }
   }
  },
  {
   "cell_type": "markdown",
   "source": [
    "На вход поступает текстовый файл из 3-х тысяч строк\n",
    "\n",
    "<b>Формат файла:</b>\n",
    "\n",
    "\"арифметическая операция\"    \"целое число #1\"    \"целое число #2\"\n",
    "Разделитель - 4 пробела\n",
    "\n",
    "\n",
    "Нужно подготовить текстовый файл из 1 строки.\n",
    "Строка содержит набор из 3-х тысяч чисел, разделенных запятой.\n",
    "После последнего числа запятая не ставится.\n",
    "каждое число - результат операции:\n",
    "    \"результирующее целое число\" = \"целое число #1\" применить \"арифметическая операция\" \"целое число #2\"\n",
    "\n",
    "<b>Допустимые операции:</b>\n",
    "\n",
    "+ (сложение)\n",
    "- (вычитание)\n",
    "* (умножение)\n",
    "// (целочисленное деление) (для этой операции подаются только положительные числа)\n",
    "% (остаток от деления) (для этой операции подаются только положительные числа)\n",
    "** (возведение в степень) (для этой операции подаются только положительные числа)"
   ],
   "metadata": {
    "collapsed": false
   }
  },
  {
   "cell_type": "code",
   "execution_count": 2,
   "outputs": [],
   "source": [
    "def calculate_from_str(line):\n",
    "    line = line.split(\"    \")\n",
    "    operation = line[0]\n",
    "    a = int(line[1])\n",
    "    b = int(line[2])\n",
    "    if operation == '+':\n",
    "        return a + b\n",
    "    if operation == '-':\n",
    "        return a - b\n",
    "    if operation == '*':\n",
    "        return a * b\n",
    "    if operation == '//':\n",
    "        if a <= 0 or b <= 0:\n",
    "            raise ValueError\n",
    "        return a // b\n",
    "    if operation == '%':\n",
    "        if a <= 0 or b <= 0:\n",
    "            raise ValueError\n",
    "        return a % b\n",
    "    if operation == '**':\n",
    "        if a < 0 or b < 0:\n",
    "            raise ValueError\n",
    "        return a ** b\n",
    "    raise ValueError\n",
    "\n",
    "in_name = \"input_file.txt\"\n",
    "out_name = \"out_file.txt\"\n",
    "result = []\n",
    "with open(in_name, 'r') as in_file:\n",
    "    for line in in_file.readlines():\n",
    "        result.append(calculate_from_str(line.replace('\\n', '')))\n",
    "with open(out_name, 'w') as out_file:\n",
    "    out_file.write(\",\".join(str(x) for x in result))"
   ],
   "metadata": {
    "collapsed": false,
    "pycharm": {
     "name": "#%%\n"
    }
   }
  },
  {
   "cell_type": "markdown",
   "source": [
    "На вход поступает два текстовый файл из 3-х тысяч строк каждый.\n",
    "\n",
    "Первый файл содержит строки текста.\n",
    "\n",
    "Второй файл содержит строки из двух целых неотрицательных чисел.\n",
    "Первое число в строке всегда меньше или равно второму.\n",
    "Числа всегда меньше длины соответствующей строки первого файла.\n",
    "Соответствующей - это значит 1-ая строка из 1-го файла соответствует 1-ой строке из 2-го файла, а 123-я строка из 1-го файла соответствует 123-ей строке из 2-го файла.\n",
    "\n",
    "Подготовить выходной файл, который состоит из подстрок 1-го входного файла.\n",
    "Подстроки разделены пробелами.\n",
    "Какие брать подстроки - написано во втором файле.\n",
    "В конце файла пробела нет."
   ],
   "metadata": {
    "collapsed": false
   }
  },
  {
   "cell_type": "code",
   "execution_count": 4,
   "outputs": [],
   "source": [
    "    first_file_name = \"import_file_2_1.txt\"\n",
    "    second_file_name = \"import_file_2_2.txt\"\n",
    "    result_file_name = \"second_out.txt\"\n",
    "    # correct_file_name = \"test_output_file_2.txt\"\n",
    "    result = []\n",
    "    with open(first_file_name) as first_file, open(second_file_name) as second_file:\n",
    "        first_lines = first_file.readlines()\n",
    "        second_lines = second_file.readlines()\n",
    "        for ind in range(len(first_lines)):\n",
    "            start, end = [int(x) for x in second_lines[ind].split(\" \")]\n",
    "            result.append(first_lines[ind][start:end + 1])\n",
    "    with open(result_file_name, 'w') as out_file:\n",
    "        out_file.write(\" \".join(str(x) for x in result))\n",
    "\n",
    "    # with open(result_file_name, 'r') as mine, open(correct_file_name, 'r') as correct:\n",
    "    #     assert mine.readline() == correct.readline()"
   ],
   "metadata": {
    "collapsed": false,
    "pycharm": {
     "name": "#%%\n"
    }
   }
  },
  {
   "cell_type": "markdown",
   "source": [
    "На вход поступает строка.\n",
    "В ней хранится набор химических символов (He, O, H, Mg, Fe, ...). Без пробелов.\n",
    "Нужно расшифровать химические символы в название химических элементов.\n",
    "Для удобства, прилагается json файл, который ставит в соответствие химическому символу его химическое название.\n",
    "Как прочитать этот файл в словарь python (dict):\n"
   ],
   "metadata": {
    "collapsed": false
   }
  },
  {
   "cell_type": "code",
   "execution_count": 7,
   "outputs": [],
   "source": [
    "import json\n",
    "\n",
    "periodic_table = json.load(open('periodic_table.json'))\n",
    "file_to_parse = \"import_file_3.txt\"\n",
    "result_file_name = \"third_out.txt\"\n",
    "result = []\n",
    "with open(file_to_parse) as in_file:\n",
    "    current_code = \"\"\n",
    "    for character in reversed(in_file.readline()):\n",
    "        current_code = character + current_code\n",
    "        if current_code in periodic_table:\n",
    "            result.append(periodic_table[current_code])\n",
    "            current_code = \"\"\n",
    "with open(result_file_name, 'w') as out_file:\n",
    "    out_file.write(\"\".join(str(x) for x in reversed(result)))\n"
   ],
   "metadata": {
    "collapsed": false,
    "pycharm": {
     "name": "#%%\n"
    }
   }
  }
 ],
 "metadata": {
  "kernelspec": {
   "display_name": "Python 3",
   "language": "python",
   "name": "python3"
  },
  "language_info": {
   "codemirror_mode": {
    "name": "ipython",
    "version": 2
   },
   "file_extension": ".py",
   "mimetype": "text/x-python",
   "name": "python",
   "nbconvert_exporter": "python",
   "pygments_lexer": "ipython2",
   "version": "2.7.6"
  }
 },
 "nbformat": 4,
 "nbformat_minor": 0
}